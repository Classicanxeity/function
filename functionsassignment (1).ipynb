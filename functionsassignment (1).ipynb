{
  "nbformat": 4,
  "nbformat_minor": 0,
  "metadata": {
    "colab": {
      "provenance": []
    },
    "kernelspec": {
      "name": "python3",
      "display_name": "Python 3"
    },
    "language_info": {
      "name": "python"
    }
  },
  "cells": [
    {
      "cell_type": "markdown",
      "source": [
        "1. What is the difference between a function and a method in Python?\n",
        "\n",
        "-->Defined using def, works independently.\n",
        "\n",
        " A function that belongs to an object (called with .).\n",
        "\n",
        "\n",
        "\n",
        "\n",
        "\n",
        "\n",
        "\n",
        "\n",
        "\n",
        "\n",
        "\n",
        "\n",
        "\n",
        "\n",
        "\n",
        "\n",
        "\n"
      ],
      "metadata": {
        "id": "WzzFJS8Z2deh"
      }
    },
    {
      "cell_type": "markdown",
      "source": [],
      "metadata": {
        "id": "_184e-gd5-dj"
      }
    },
    {
      "cell_type": "code",
      "source": [
        "#Example:\n",
        "\n",
        "def add(a, b):   # Function\n",
        "    return a + b\n",
        "\n",
        "text = \"hello\"\n",
        "print(text.upper())   # upper() is a method\n",
        "\n",
        "\n"
      ],
      "metadata": {
        "colab": {
          "base_uri": "https://localhost:8080/"
        },
        "id": "zSrJazVS5-n7",
        "outputId": "ca3802b0-745f-4961-a379-b7d729eb52bf"
      },
      "execution_count": 101,
      "outputs": [
        {
          "output_type": "stream",
          "name": "stdout",
          "text": [
            "HELLO\n"
          ]
        }
      ]
    },
    {
      "cell_type": "markdown",
      "source": [
        "\n",
        "2. . Explain the concept of function arguments and parameters in Python.\n",
        "\n",
        "--> Variable in function definition.\n",
        "\n",
        " Actual value passed to function.\n"
      ],
      "metadata": {
        "id": "yYwUpSHm5vmL"
      }
    },
    {
      "cell_type": "code",
      "source": [
        "#Example:\n",
        "\n",
        "def greet(name):  # 'name' is parameter\n",
        "    print(\"Hello\", name)\n",
        "\n",
        "greet(\"Prem\")    # \"Prem\" is argument"
      ],
      "metadata": {
        "colab": {
          "base_uri": "https://localhost:8080/"
        },
        "id": "xlx2785k5681",
        "outputId": "e72ddb5d-f675-4f61-c2f8-907f786b8b08"
      },
      "execution_count": 102,
      "outputs": [
        {
          "output_type": "stream",
          "name": "stdout",
          "text": [
            "Hello Prem\n"
          ]
        }
      ]
    },
    {
      "cell_type": "markdown",
      "source": [
        "\n",
        "3.  What are the different ways to define and call a function in Python?\n",
        "\n",
        "-->Normal def function.\n",
        "\n",
        "With default parameters.\n",
        "\n",
        "With *args (variable arguments).\n",
        "\n",
        "With **kwargs (keyword arguments).\n",
        "\n",
        "\n"
      ],
      "metadata": {
        "id": "Jg4QZQgB5xIW"
      }
    },
    {
      "cell_type": "code",
      "source": [
        "\n",
        "#Example:\n",
        "\n",
        "def f1(): print(\"Hi\")\n",
        "def f2(a=10): print(a)\n",
        "def f3(*nums): print(nums)\n",
        "def f4(**info): print(info)\n",
        "\n",
        "f1()\n",
        "f2()\n",
        "f3(1,2,3)\n",
        "f4(name=\"Prem\", age=20)"
      ],
      "metadata": {
        "colab": {
          "base_uri": "https://localhost:8080/"
        },
        "id": "gWAoutgq5wHB",
        "outputId": "dc9d8129-87f4-4f46-9907-4d442a60cd14"
      },
      "execution_count": 103,
      "outputs": [
        {
          "output_type": "stream",
          "name": "stdout",
          "text": [
            "Hi\n",
            "10\n",
            "(1, 2, 3)\n",
            "{'name': 'Prem', 'age': 20}\n"
          ]
        }
      ]
    },
    {
      "cell_type": "markdown",
      "source": [
        "4.  What is the purpose of the `return` statement in a Python function?\n",
        "\n",
        "-->Sends result back to caller. Ends function execution."
      ],
      "metadata": {
        "id": "rrwyt_0_5rbr"
      }
    },
    {
      "cell_type": "code",
      "source": [
        "\n",
        "#Example:\n",
        "\n",
        "def square(x):\n",
        "    return x * x\n",
        "\n",
        "print(square(5))  # 25\n"
      ],
      "metadata": {
        "colab": {
          "base_uri": "https://localhost:8080/"
        },
        "id": "pe0ZQkEN5pnt",
        "outputId": "2bd1695f-5e9b-4351-a571-da1e14bae337"
      },
      "execution_count": 104,
      "outputs": [
        {
          "output_type": "stream",
          "name": "stdout",
          "text": [
            "25\n"
          ]
        }
      ]
    },
    {
      "cell_type": "markdown",
      "source": [
        "5.  What are iterators in Python and how do they differ from iterables?\n",
        "\n",
        "-->\n",
        "Iterable: Objects you can loop over (list, string, tuple).\n",
        "\n",
        "Iterator: Produces one element at a time using next()."
      ],
      "metadata": {
        "id": "QBqqgB_Q5fbq"
      }
    },
    {
      "cell_type": "code",
      "source": [
        "\n",
        "#Example:\n",
        "\n",
        "nums = [1,2,3]   # Iterable\n",
        "it = iter(nums)  # Iterator\n",
        "print(next(it))  # 1"
      ],
      "metadata": {
        "colab": {
          "base_uri": "https://localhost:8080/"
        },
        "id": "OHZ_A65Y5bPL",
        "outputId": "065bf213-7056-43c3-efc6-4f24b7233e0c"
      },
      "execution_count": 105,
      "outputs": [
        {
          "output_type": "stream",
          "name": "stdout",
          "text": [
            "1\n"
          ]
        }
      ]
    },
    {
      "cell_type": "markdown",
      "source": [
        "6. Explain the concept of generators in Python and how they are defined.\n",
        "\n",
        "-->Special functions that use yield.\n",
        "\n",
        "Generate values one at a time, don’t store full data in memory.\n"
      ],
      "metadata": {
        "id": "gUK7T7265TAd"
      }
    },
    {
      "cell_type": "code",
      "source": [
        "#Example:\n",
        "\n",
        "def gen_nums():\n",
        "    for i in range(3):\n",
        "        yield i\n",
        "\n",
        "for x in gen_nums():\n",
        "    print(x)"
      ],
      "metadata": {
        "colab": {
          "base_uri": "https://localhost:8080/"
        },
        "id": "2i9tgxcJ5Uoi",
        "outputId": "1c6df1ee-ed8c-4eed-aa75-a267ed80e276"
      },
      "execution_count": 106,
      "outputs": [
        {
          "output_type": "stream",
          "name": "stdout",
          "text": [
            "0\n",
            "1\n",
            "2\n"
          ]
        }
      ]
    },
    {
      "cell_type": "markdown",
      "source": [
        "7.  What are the advantages of using generators over regular functions?\n",
        "\n",
        "-->Memory efficient (no full list stored).\n",
        "\n",
        "Lazy evaluation (values generated when needed).\n",
        "\n",
        "Easy to implement with yield.\n",
        "ers.\n"
      ],
      "metadata": {
        "id": "yWl9q2Df5NZR"
      }
    },
    {
      "cell_type": "code",
      "source": [
        "#example\n",
        "range(1000000)"
      ],
      "metadata": {
        "colab": {
          "base_uri": "https://localhost:8080/"
        },
        "id": "e_5iskOf5GQN",
        "outputId": "90ee2cdb-1449-444f-8c3b-07b89abe7c17"
      },
      "execution_count": 107,
      "outputs": [
        {
          "output_type": "execute_result",
          "data": {
            "text/plain": [
              "range(0, 1000000)"
            ]
          },
          "metadata": {},
          "execution_count": 107
        }
      ]
    },
    {
      "cell_type": "markdown",
      "source": [
        "8. What is a lambda function in Python and when is it typically used?\n",
        "\n",
        "-->Anonymous single-line functions.\n",
        "\n",
        "Used for short tasks like sorting, filtering.\n"
      ],
      "metadata": {
        "id": "mLz1TaGd47_h"
      }
    },
    {
      "cell_type": "code",
      "source": [
        "#Example:\n",
        "\n",
        "add = lambda a, b: a + b\n",
        "print(add(3,4))   # 7"
      ],
      "metadata": {
        "colab": {
          "base_uri": "https://localhost:8080/"
        },
        "id": "O-JIATPf49_4",
        "outputId": "b9268539-efb5-471a-a08a-ea181f0038e5"
      },
      "execution_count": 108,
      "outputs": [
        {
          "output_type": "stream",
          "name": "stdout",
          "text": [
            "7\n"
          ]
        }
      ]
    },
    {
      "cell_type": "markdown",
      "source": [
        "9. Explain the purpose and usage of the `map()` function in Python?\n",
        "\n",
        " -->Applies a function to each item in iterable."
      ],
      "metadata": {
        "id": "CmilMqSp4wT9"
      }
    },
    {
      "cell_type": "markdown",
      "source": [],
      "metadata": {
        "id": "INMyNlzl43Oe"
      }
    },
    {
      "cell_type": "markdown",
      "source": [],
      "metadata": {
        "id": "Q0BE1ef643fK"
      }
    },
    {
      "cell_type": "markdown",
      "source": [],
      "metadata": {
        "id": "jxCVMTKt43uJ"
      }
    },
    {
      "cell_type": "code",
      "source": [
        "#example\n",
        "nums = [1,2,3]\n",
        "squares = list(map(lambda x: x*x, nums))\n",
        "print(squares)   # [1, 4, 9]\n"
      ],
      "metadata": {
        "colab": {
          "base_uri": "https://localhost:8080/"
        },
        "id": "AxDW49vF4eo3",
        "outputId": "963dd279-7510-485a-9242-bf20d86626f5"
      },
      "execution_count": 109,
      "outputs": [
        {
          "output_type": "stream",
          "name": "stdout",
          "text": [
            "[1, 4, 9]\n"
          ]
        }
      ]
    },
    {
      "cell_type": "markdown",
      "source": [
        "10. What is the difference between `map()`, `reduce()`, and `filter()` functions in Python?\n",
        "\n",
        "-->map() → Applies function to all elements.\n",
        "\n",
        "filter() → Selects elements based on condition.\n",
        "\n",
        "reduce() → Combines all elements into single value."
      ],
      "metadata": {
        "id": "dVY7Zc6P4iTF"
      }
    },
    {
      "cell_type": "code",
      "source": [
        "#example\n",
        "from functools import reduce\n",
        "nums = [1,2,3,4]\n",
        "\n",
        "print(list(map(lambda x: x*2, nums)))\n",
        "print(list(filter(lambda x: x%2==0, nums)))\n",
        "print(reduce(lambda a,b: a+b, nums))\n"
      ],
      "metadata": {
        "colab": {
          "base_uri": "https://localhost:8080/"
        },
        "id": "8d0MTzDF4Yp9",
        "outputId": "ac268b41-2316-4df8-88ee-a052140e358e"
      },
      "execution_count": 110,
      "outputs": [
        {
          "output_type": "stream",
          "name": "stdout",
          "text": [
            "[2, 4, 6, 8]\n",
            "[2, 4]\n",
            "10\n"
          ]
        }
      ]
    },
    {
      "cell_type": "markdown",
      "source": [
        "####practical"
      ],
      "metadata": {
        "id": "X074YNrb5BhE"
      }
    },
    {
      "cell_type": "code",
      "source": [
        "#1.Write a Python function that takes a list of numbers as input and returns the sum of all even numbers in the list.\n",
        "def sum_even(nums):\n",
        "    return sum([n for n in nums if n % 2 == 0])\n",
        "\n",
        "print(sum_even([1,2,3,4,6]))\n"
      ],
      "metadata": {
        "colab": {
          "base_uri": "https://localhost:8080/"
        },
        "id": "gyx5TeeT3nR5",
        "outputId": "1e278e47-a2dc-4c3e-961b-f1852e4228c1"
      },
      "execution_count": 111,
      "outputs": [
        {
          "output_type": "stream",
          "name": "stdout",
          "text": [
            "12\n"
          ]
        }
      ]
    },
    {
      "cell_type": "code",
      "source": [
        "#2. Create a Python function that accepts a string and returns the reverse of that string.\n",
        "def reverse_string(s):\n",
        "    return s[::-1]\n",
        "\n",
        "print(reverse_string(\"hello\"))\n"
      ],
      "metadata": {
        "colab": {
          "base_uri": "https://localhost:8080/"
        },
        "id": "zj4siU7c3sJE",
        "outputId": "b93c7b92-072a-4ee5-d2e6-d71a8ec37950"
      },
      "execution_count": 112,
      "outputs": [
        {
          "output_type": "stream",
          "name": "stdout",
          "text": [
            "olleh\n"
          ]
        }
      ]
    },
    {
      "cell_type": "code",
      "source": [
        "#3.. Implement a Python function that takes a list of integers and returns a new list containing the squares of each number.\n",
        "def squares(nums):\n",
        "    return [n**2 for n in nums]\n",
        "\n",
        "print(squares([1,2,3]))\n",
        "\n",
        ""
      ],
      "metadata": {
        "colab": {
          "base_uri": "https://localhost:8080/"
        },
        "id": "WrHx6msU3trJ",
        "outputId": "884c7316-0391-43ae-b94e-3e642b209f58"
      },
      "execution_count": 113,
      "outputs": [
        {
          "output_type": "stream",
          "name": "stdout",
          "text": [
            "[1, 4, 9]\n"
          ]
        }
      ]
    },
    {
      "cell_type": "code",
      "source": [
        "#4. Write a Python function that checks if a given number is prime or not from 1 to 200.\n",
        "def is_prime(n):\n",
        "    if n < 2: return False\n",
        "    for i in range(2,int(n**0.5)+1):\n",
        "        if n % i == 0: return False\n",
        "    return True\n",
        "\n",
        "primes = [x for x in range(1,201) if is_prime(x)]\n",
        "print(primes)\n",
        "\n",
        "\n",
        "\n",
        "\n"
      ],
      "metadata": {
        "colab": {
          "base_uri": "https://localhost:8080/"
        },
        "id": "PDgy1MPL3ulX",
        "outputId": "cb49e4e7-fe50-49b1-eb19-7d0f54fcfaa3"
      },
      "execution_count": 114,
      "outputs": [
        {
          "output_type": "stream",
          "name": "stdout",
          "text": [
            "[2, 3, 5, 7, 11, 13, 17, 19, 23, 29, 31, 37, 41, 43, 47, 53, 59, 61, 67, 71, 73, 79, 83, 89, 97, 101, 103, 107, 109, 113, 127, 131, 137, 139, 149, 151, 157, 163, 167, 173, 179, 181, 191, 193, 197, 199]\n"
          ]
        }
      ]
    },
    {
      "cell_type": "code",
      "source": [
        "#5. Create an iterator class in Python that generates the Fibonacci sequence up to a specified number of terms.\n",
        "class Fibonacci:\n",
        "    def __init__(self, terms):\n",
        "        self.terms = terms\n",
        "        self.a, self.b = 0, 1\n",
        "        self.count = 0\n",
        "\n",
        "    def __iter__(self):\n",
        "        return self\n",
        "\n",
        "    def __next__(self):\n",
        "        if self.count < self.terms:\n",
        "            value = self.a\n",
        "            self.a, self.b = self.b, self.a + self.b\n",
        "            self.count += 1\n",
        "            return value\n",
        "        else:\n",
        "            raise StopIteration\n",
        "\n",
        "for num in Fibonacci(10):\n",
        "    print(num, end=\" \")\n",
        "\n",
        "\n"
      ],
      "metadata": {
        "colab": {
          "base_uri": "https://localhost:8080/"
        },
        "id": "agSTmFMe3vg-",
        "outputId": "ac0c979d-9874-41dd-9c35-2a103b8528cd"
      },
      "execution_count": 115,
      "outputs": [
        {
          "output_type": "stream",
          "name": "stdout",
          "text": [
            "0 1 1 2 3 5 8 13 21 34 "
          ]
        }
      ]
    },
    {
      "cell_type": "code",
      "source": [
        "#6. Write a generator function in Python that yields the powers of 2 up to a given exponent.\n",
        "def powers_of_two(n):\n",
        "    for i in range(n+1):\n",
        "        yield 2**i\n",
        "\n",
        "for val in powers_of_two(5):\n",
        "    print(val)\n",
        "\n",
        "\n"
      ],
      "metadata": {
        "colab": {
          "base_uri": "https://localhost:8080/"
        },
        "id": "5UfvL7DR3wPv",
        "outputId": "441e738c-3ff6-47a1-e7e2-36244d5627a5"
      },
      "execution_count": 116,
      "outputs": [
        {
          "output_type": "stream",
          "name": "stdout",
          "text": [
            "1\n",
            "2\n",
            "4\n",
            "8\n",
            "16\n",
            "32\n"
          ]
        }
      ]
    },
    {
      "cell_type": "code",
      "source": [
        "#7.Implement a generator function that reads a file line by line and yields each line as a string.\n",
        "\n",
        "def read_file(filename):\n",
        "    with open(filename) as f:\n",
        "        for line in f:\n",
        "            yield line.strip()\n",
        "\n",
        "for line in read_file(\"sample.txt\"):\n",
        "    print(line)\n"
      ],
      "metadata": {
        "colab": {
          "base_uri": "https://localhost:8080/"
        },
        "id": "88G2qdUZ3xQp",
        "outputId": "568e0219-6623-45c5-bcc6-121ea0652549"
      },
      "execution_count": 117,
      "outputs": [
        {
          "output_type": "stream",
          "name": "stdout",
          "text": [
            "This is line 1\n",
            "This is line 2\n",
            "This is line 3\n"
          ]
        }
      ]
    },
    {
      "cell_type": "code",
      "source": [
        "#8. Use a lambda function in Python to sort a list of tuples based on the second element of each tuple.\n",
        "pairs = [(1,5),(2,1),(3,4)]\n",
        "sorted_pairs = sorted(pairs, key=lambda x: x[1])\n",
        "print(sorted_pairs)\n"
      ],
      "metadata": {
        "colab": {
          "base_uri": "https://localhost:8080/"
        },
        "id": "ZCb9nFip3yFJ",
        "outputId": "7375e6c5-a55b-4761-ee5a-8cea1e7b7d0c"
      },
      "execution_count": 118,
      "outputs": [
        {
          "output_type": "stream",
          "name": "stdout",
          "text": [
            "[(2, 1), (3, 4), (1, 5)]\n"
          ]
        }
      ]
    },
    {
      "cell_type": "code",
      "source": [
        "#9. Write a Python program that uses `map()` to convert a list of temperatures from Celsius to Fahrenheit.\n",
        "temps_c = [0,20,30,40]\n",
        "temps_f = list(map(lambda c: (c*9/5)+32, temps_c))\n",
        "print(temps_f)\n",
        "\n"
      ],
      "metadata": {
        "colab": {
          "base_uri": "https://localhost:8080/"
        },
        "id": "IExcN24T3y6d",
        "outputId": "ef0d88ed-e584-4412-f39f-49284bbdb8b8"
      },
      "execution_count": 119,
      "outputs": [
        {
          "output_type": "stream",
          "name": "stdout",
          "text": [
            "[32.0, 68.0, 86.0, 104.0]\n"
          ]
        }
      ]
    },
    {
      "cell_type": "code",
      "source": [
        "#10. Create a Python program that uses `filter()` to remove all the vowels from a given string.\n",
        "def remove_vowels(s):\n",
        "    return \"\".join(filter(lambda ch: ch.lower() not in \"aeiou\", s))\n",
        "\n",
        "print(remove_vowels(\"Hello World\"))\n"
      ],
      "metadata": {
        "colab": {
          "base_uri": "https://localhost:8080/"
        },
        "id": "R68rKc0t30XD",
        "outputId": "19a30e0c-a56f-49dd-fcfd-bb741a581fcb"
      },
      "execution_count": 120,
      "outputs": [
        {
          "output_type": "stream",
          "name": "stdout",
          "text": [
            "Hll Wrld\n"
          ]
        }
      ]
    },
    {
      "cell_type": "code",
      "source": [
        "#11.\n",
        "orders = [\n",
        "    [34587, \"Learning Python, Mark Lutz\", 4, 40.95],\n",
        "    [98762, \"Programming Python, Mark Lutz\", 5, 56.80],\n",
        "    [77226, \"Head First Python, Paul Barry\", 3, 32.95],\n",
        "    [88112, \"Einführung in Python3, Bernd Klein\", 3, 24.99]\n",
        "]\n",
        "\n",
        "\n",
        "def calculate_total(order):\n",
        "    order_number, _, quantity, price = order\n",
        "    total = quantity * price\n",
        "    if total < 100:\n",
        "        total += 10\n",
        "    return (order_number, round(total, 2))\n",
        "\n",
        "\n",
        "result = list(map(calculate_total, orders))\n",
        "\n",
        "print(result)\n"
      ],
      "metadata": {
        "colab": {
          "base_uri": "https://localhost:8080/"
        },
        "id": "fusbUSr-9A6o",
        "outputId": "8c07cb11-3067-4e62-bad7-bf08ef1bf97a"
      },
      "execution_count": 121,
      "outputs": [
        {
          "output_type": "stream",
          "name": "stdout",
          "text": [
            "[(34587, 163.8), (98762, 284.0), (77226, 108.85), (88112, 84.97)]\n"
          ]
        }
      ]
    },
    {
      "cell_type": "code",
      "metadata": {
        "colab": {
          "base_uri": "https://localhost:8080/"
        },
        "id": "751101aa",
        "outputId": "773fafee-91db-4814-e31b-2c91309d9b15"
      },
      "source": [
        "#11.\n",
        "orders = [\n",
        "    [34587, \"Learning Python, Mark Lutz\", 4, 40.95],\n",
        "    [98762, \"Programming Python, Mark Lutz\", 5, 56.80],\n",
        "    [77226, \"Head First Python, Paul Barry\", 3, 32.95],\n",
        "    [88112, \"Einführung in Python3, Bernd Klein\", 3, 24.99]\n",
        "]\n",
        "\n",
        "\n",
        "result = list(map(lambda x: (x[0], x[2]*x[3] if x[2]*x[3] >= 100 else x[2]*x[3] + 10), orders))\n",
        "\n",
        "print(result)\n"
      ],
      "execution_count": 122,
      "outputs": [
        {
          "output_type": "stream",
          "name": "stdout",
          "text": [
            "[(34587, 163.8), (98762, 284.0), (77226, 108.85000000000001), (88112, 84.97)]\n"
          ]
        }
      ]
    }
  ]
}